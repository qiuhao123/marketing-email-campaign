{
 "cells": [
  {
   "cell_type": "code",
   "execution_count": 1,
   "metadata": {
    "collapsed": true
   },
   "outputs": [],
   "source": [
    "import pandas as pd\n",
    "import numpy as np\n",
    "import matplotlib.pyplot as plt\n",
    "import seaborn as sns\n",
    "%matplotlib inline"
   ]
  },
  {
   "cell_type": "code",
   "execution_count": 3,
   "metadata": {},
   "outputs": [
    {
     "data": {
      "text/html": [
       "<div>\n",
       "<style scoped>\n",
       "    .dataframe tbody tr th:only-of-type {\n",
       "        vertical-align: middle;\n",
       "    }\n",
       "\n",
       "    .dataframe tbody tr th {\n",
       "        vertical-align: top;\n",
       "    }\n",
       "\n",
       "    .dataframe thead th {\n",
       "        text-align: right;\n",
       "    }\n",
       "</style>\n",
       "<table border=\"1\" class=\"dataframe\">\n",
       "  <thead>\n",
       "    <tr style=\"text-align: right;\">\n",
       "      <th></th>\n",
       "      <th>email_id</th>\n",
       "      <th>email_text</th>\n",
       "      <th>email_version</th>\n",
       "      <th>hour</th>\n",
       "      <th>weekday</th>\n",
       "      <th>user_country</th>\n",
       "      <th>user_past_purchases</th>\n",
       "    </tr>\n",
       "  </thead>\n",
       "  <tbody>\n",
       "    <tr>\n",
       "      <th>0</th>\n",
       "      <td>85120</td>\n",
       "      <td>short_email</td>\n",
       "      <td>personalized</td>\n",
       "      <td>2</td>\n",
       "      <td>Sunday</td>\n",
       "      <td>US</td>\n",
       "      <td>5</td>\n",
       "    </tr>\n",
       "    <tr>\n",
       "      <th>1</th>\n",
       "      <td>966622</td>\n",
       "      <td>long_email</td>\n",
       "      <td>personalized</td>\n",
       "      <td>12</td>\n",
       "      <td>Sunday</td>\n",
       "      <td>UK</td>\n",
       "      <td>2</td>\n",
       "    </tr>\n",
       "    <tr>\n",
       "      <th>2</th>\n",
       "      <td>777221</td>\n",
       "      <td>long_email</td>\n",
       "      <td>personalized</td>\n",
       "      <td>11</td>\n",
       "      <td>Wednesday</td>\n",
       "      <td>US</td>\n",
       "      <td>2</td>\n",
       "    </tr>\n",
       "    <tr>\n",
       "      <th>3</th>\n",
       "      <td>493711</td>\n",
       "      <td>short_email</td>\n",
       "      <td>generic</td>\n",
       "      <td>6</td>\n",
       "      <td>Monday</td>\n",
       "      <td>UK</td>\n",
       "      <td>1</td>\n",
       "    </tr>\n",
       "    <tr>\n",
       "      <th>4</th>\n",
       "      <td>106887</td>\n",
       "      <td>long_email</td>\n",
       "      <td>generic</td>\n",
       "      <td>14</td>\n",
       "      <td>Monday</td>\n",
       "      <td>US</td>\n",
       "      <td>6</td>\n",
       "    </tr>\n",
       "  </tbody>\n",
       "</table>\n",
       "</div>"
      ],
      "text/plain": [
       "   email_id   email_text email_version  hour    weekday user_country  \\\n",
       "0     85120  short_email  personalized     2     Sunday           US   \n",
       "1    966622   long_email  personalized    12     Sunday           UK   \n",
       "2    777221   long_email  personalized    11  Wednesday           US   \n",
       "3    493711  short_email       generic     6     Monday           UK   \n",
       "4    106887   long_email       generic    14     Monday           US   \n",
       "\n",
       "   user_past_purchases  \n",
       "0                    5  \n",
       "1                    2  \n",
       "2                    2  \n",
       "3                    1  \n",
       "4                    6  "
      ]
     },
     "execution_count": 3,
     "metadata": {},
     "output_type": "execute_result"
    }
   ],
   "source": [
    "email_df = pd.read_csv('email_table.csv')\n",
    "email_df.head()"
   ]
  },
  {
   "cell_type": "code",
   "execution_count": 4,
   "metadata": {},
   "outputs": [
    {
     "data": {
      "text/html": [
       "<div>\n",
       "<style scoped>\n",
       "    .dataframe tbody tr th:only-of-type {\n",
       "        vertical-align: middle;\n",
       "    }\n",
       "\n",
       "    .dataframe tbody tr th {\n",
       "        vertical-align: top;\n",
       "    }\n",
       "\n",
       "    .dataframe thead th {\n",
       "        text-align: right;\n",
       "    }\n",
       "</style>\n",
       "<table border=\"1\" class=\"dataframe\">\n",
       "  <thead>\n",
       "    <tr style=\"text-align: right;\">\n",
       "      <th></th>\n",
       "      <th>email_id</th>\n",
       "    </tr>\n",
       "  </thead>\n",
       "  <tbody>\n",
       "    <tr>\n",
       "      <th>0</th>\n",
       "      <td>284534</td>\n",
       "    </tr>\n",
       "    <tr>\n",
       "      <th>1</th>\n",
       "      <td>609056</td>\n",
       "    </tr>\n",
       "    <tr>\n",
       "      <th>2</th>\n",
       "      <td>220820</td>\n",
       "    </tr>\n",
       "    <tr>\n",
       "      <th>3</th>\n",
       "      <td>905936</td>\n",
       "    </tr>\n",
       "    <tr>\n",
       "      <th>4</th>\n",
       "      <td>164034</td>\n",
       "    </tr>\n",
       "  </tbody>\n",
       "</table>\n",
       "</div>"
      ],
      "text/plain": [
       "   email_id\n",
       "0    284534\n",
       "1    609056\n",
       "2    220820\n",
       "3    905936\n",
       "4    164034"
      ]
     },
     "execution_count": 4,
     "metadata": {},
     "output_type": "execute_result"
    }
   ],
   "source": [
    "email_open_df = pd.read_csv('email_opened_table.csv')\n",
    "email_open_df.head()"
   ]
  },
  {
   "cell_type": "code",
   "execution_count": 5,
   "metadata": {},
   "outputs": [
    {
     "data": {
      "text/html": [
       "<div>\n",
       "<style scoped>\n",
       "    .dataframe tbody tr th:only-of-type {\n",
       "        vertical-align: middle;\n",
       "    }\n",
       "\n",
       "    .dataframe tbody tr th {\n",
       "        vertical-align: top;\n",
       "    }\n",
       "\n",
       "    .dataframe thead th {\n",
       "        text-align: right;\n",
       "    }\n",
       "</style>\n",
       "<table border=\"1\" class=\"dataframe\">\n",
       "  <thead>\n",
       "    <tr style=\"text-align: right;\">\n",
       "      <th></th>\n",
       "      <th>email_id</th>\n",
       "    </tr>\n",
       "  </thead>\n",
       "  <tbody>\n",
       "    <tr>\n",
       "      <th>0</th>\n",
       "      <td>609056</td>\n",
       "    </tr>\n",
       "    <tr>\n",
       "      <th>1</th>\n",
       "      <td>870980</td>\n",
       "    </tr>\n",
       "    <tr>\n",
       "      <th>2</th>\n",
       "      <td>935124</td>\n",
       "    </tr>\n",
       "    <tr>\n",
       "      <th>3</th>\n",
       "      <td>158501</td>\n",
       "    </tr>\n",
       "    <tr>\n",
       "      <th>4</th>\n",
       "      <td>177561</td>\n",
       "    </tr>\n",
       "  </tbody>\n",
       "</table>\n",
       "</div>"
      ],
      "text/plain": [
       "   email_id\n",
       "0    609056\n",
       "1    870980\n",
       "2    935124\n",
       "3    158501\n",
       "4    177561"
      ]
     },
     "execution_count": 5,
     "metadata": {},
     "output_type": "execute_result"
    }
   ],
   "source": [
    "link_click_df = pd.read_csv('link_clicked_table.csv')\n",
    "link_click_df.head()"
   ]
  },
  {
   "cell_type": "markdown",
   "metadata": {},
   "source": [
    "### check the three df"
   ]
  },
  {
   "cell_type": "code",
   "execution_count": 6,
   "metadata": {},
   "outputs": [
    {
     "name": "stdout",
     "output_type": "stream",
     "text": [
      "<class 'pandas.core.frame.DataFrame'>\n",
      "RangeIndex: 100000 entries, 0 to 99999\n",
      "Data columns (total 7 columns):\n",
      "email_id               100000 non-null int64\n",
      "email_text             100000 non-null object\n",
      "email_version          100000 non-null object\n",
      "hour                   100000 non-null int64\n",
      "weekday                100000 non-null object\n",
      "user_country           100000 non-null object\n",
      "user_past_purchases    100000 non-null int64\n",
      "dtypes: int64(3), object(4)\n",
      "memory usage: 5.3+ MB\n"
     ]
    }
   ],
   "source": [
    "email_df.info()"
   ]
  },
  {
   "cell_type": "code",
   "execution_count": 8,
   "metadata": {},
   "outputs": [
    {
     "name": "stdout",
     "output_type": "stream",
     "text": [
      "<class 'pandas.core.frame.DataFrame'>\n",
      "RangeIndex: 10345 entries, 0 to 10344\n",
      "Data columns (total 1 columns):\n",
      "email_id    10345 non-null int64\n",
      "dtypes: int64(1)\n",
      "memory usage: 80.9 KB\n"
     ]
    }
   ],
   "source": [
    "email_open_df.info()"
   ]
  },
  {
   "cell_type": "code",
   "execution_count": 9,
   "metadata": {},
   "outputs": [
    {
     "name": "stdout",
     "output_type": "stream",
     "text": [
      "<class 'pandas.core.frame.DataFrame'>\n",
      "RangeIndex: 2119 entries, 0 to 2118\n",
      "Data columns (total 1 columns):\n",
      "email_id    2119 non-null int64\n",
      "dtypes: int64(1)\n",
      "memory usage: 16.7 KB\n"
     ]
    }
   ],
   "source": [
    "link_click_df.info()"
   ]
  },
  {
   "cell_type": "markdown",
   "metadata": {},
   "source": [
    "### check missing data for email_df"
   ]
  },
  {
   "cell_type": "code",
   "execution_count": 10,
   "metadata": {},
   "outputs": [
    {
     "data": {
      "text/plain": [
       "email_id               0\n",
       "email_text             0\n",
       "email_version          0\n",
       "hour                   0\n",
       "weekday                0\n",
       "user_country           0\n",
       "user_past_purchases    0\n",
       "dtype: int64"
      ]
     },
     "execution_count": 10,
     "metadata": {},
     "output_type": "execute_result"
    }
   ],
   "source": [
    "email_df.isnull().sum()"
   ]
  },
  {
   "cell_type": "markdown",
   "metadata": {},
   "source": [
    "### check uniqueness of three table"
   ]
  },
  {
   "cell_type": "code",
   "execution_count": 13,
   "metadata": {},
   "outputs": [
    {
     "name": "stdout",
     "output_type": "stream",
     "text": [
      "email table has 100000 unique emails\n",
      "email open table has 10345 unique emails\n",
      "link click table has 2119 unique emails\n"
     ]
    }
   ],
   "source": [
    "print(\"email table has %i unique emails\"%email_df['email_id'].nunique())\n",
    "print(\"email open table has %i unique emails\"%email_open_df['email_id'].nunique())\n",
    "print(\"link click table has %i unique emails\"%link_click_df['email_id'].nunique())"
   ]
  },
  {
   "cell_type": "markdown",
   "metadata": {},
   "source": [
    "### merge three tables"
   ]
  },
  {
   "cell_type": "code",
   "execution_count": 15,
   "metadata": {},
   "outputs": [
    {
     "data": {
      "text/html": [
       "<div>\n",
       "<style scoped>\n",
       "    .dataframe tbody tr th:only-of-type {\n",
       "        vertical-align: middle;\n",
       "    }\n",
       "\n",
       "    .dataframe tbody tr th {\n",
       "        vertical-align: top;\n",
       "    }\n",
       "\n",
       "    .dataframe thead th {\n",
       "        text-align: right;\n",
       "    }\n",
       "</style>\n",
       "<table border=\"1\" class=\"dataframe\">\n",
       "  <thead>\n",
       "    <tr style=\"text-align: right;\">\n",
       "      <th></th>\n",
       "      <th>email_id</th>\n",
       "      <th>email_text</th>\n",
       "      <th>email_version</th>\n",
       "      <th>hour</th>\n",
       "      <th>weekday</th>\n",
       "      <th>user_country</th>\n",
       "      <th>user_past_purchases</th>\n",
       "      <th>opened</th>\n",
       "      <th>clicked</th>\n",
       "    </tr>\n",
       "  </thead>\n",
       "  <tbody>\n",
       "    <tr>\n",
       "      <th>0</th>\n",
       "      <td>85120</td>\n",
       "      <td>short_email</td>\n",
       "      <td>personalized</td>\n",
       "      <td>2</td>\n",
       "      <td>Sunday</td>\n",
       "      <td>US</td>\n",
       "      <td>5</td>\n",
       "      <td>NaN</td>\n",
       "      <td>NaN</td>\n",
       "    </tr>\n",
       "    <tr>\n",
       "      <th>1</th>\n",
       "      <td>966622</td>\n",
       "      <td>long_email</td>\n",
       "      <td>personalized</td>\n",
       "      <td>12</td>\n",
       "      <td>Sunday</td>\n",
       "      <td>UK</td>\n",
       "      <td>2</td>\n",
       "      <td>1.0</td>\n",
       "      <td>1.0</td>\n",
       "    </tr>\n",
       "    <tr>\n",
       "      <th>2</th>\n",
       "      <td>777221</td>\n",
       "      <td>long_email</td>\n",
       "      <td>personalized</td>\n",
       "      <td>11</td>\n",
       "      <td>Wednesday</td>\n",
       "      <td>US</td>\n",
       "      <td>2</td>\n",
       "      <td>NaN</td>\n",
       "      <td>NaN</td>\n",
       "    </tr>\n",
       "    <tr>\n",
       "      <th>3</th>\n",
       "      <td>493711</td>\n",
       "      <td>short_email</td>\n",
       "      <td>generic</td>\n",
       "      <td>6</td>\n",
       "      <td>Monday</td>\n",
       "      <td>UK</td>\n",
       "      <td>1</td>\n",
       "      <td>NaN</td>\n",
       "      <td>NaN</td>\n",
       "    </tr>\n",
       "    <tr>\n",
       "      <th>4</th>\n",
       "      <td>106887</td>\n",
       "      <td>long_email</td>\n",
       "      <td>generic</td>\n",
       "      <td>14</td>\n",
       "      <td>Monday</td>\n",
       "      <td>US</td>\n",
       "      <td>6</td>\n",
       "      <td>NaN</td>\n",
       "      <td>NaN</td>\n",
       "    </tr>\n",
       "    <tr>\n",
       "      <th>...</th>\n",
       "      <td>...</td>\n",
       "      <td>...</td>\n",
       "      <td>...</td>\n",
       "      <td>...</td>\n",
       "      <td>...</td>\n",
       "      <td>...</td>\n",
       "      <td>...</td>\n",
       "      <td>...</td>\n",
       "      <td>...</td>\n",
       "    </tr>\n",
       "    <tr>\n",
       "      <th>99995</th>\n",
       "      <td>803504</td>\n",
       "      <td>short_email</td>\n",
       "      <td>personalized</td>\n",
       "      <td>4</td>\n",
       "      <td>Monday</td>\n",
       "      <td>US</td>\n",
       "      <td>5</td>\n",
       "      <td>NaN</td>\n",
       "      <td>NaN</td>\n",
       "    </tr>\n",
       "    <tr>\n",
       "      <th>99996</th>\n",
       "      <td>899722</td>\n",
       "      <td>long_email</td>\n",
       "      <td>personalized</td>\n",
       "      <td>7</td>\n",
       "      <td>Saturday</td>\n",
       "      <td>US</td>\n",
       "      <td>1</td>\n",
       "      <td>NaN</td>\n",
       "      <td>NaN</td>\n",
       "    </tr>\n",
       "    <tr>\n",
       "      <th>99997</th>\n",
       "      <td>449610</td>\n",
       "      <td>long_email</td>\n",
       "      <td>personalized</td>\n",
       "      <td>11</td>\n",
       "      <td>Saturday</td>\n",
       "      <td>UK</td>\n",
       "      <td>6</td>\n",
       "      <td>NaN</td>\n",
       "      <td>NaN</td>\n",
       "    </tr>\n",
       "    <tr>\n",
       "      <th>99998</th>\n",
       "      <td>72497</td>\n",
       "      <td>short_email</td>\n",
       "      <td>generic</td>\n",
       "      <td>10</td>\n",
       "      <td>Monday</td>\n",
       "      <td>UK</td>\n",
       "      <td>0</td>\n",
       "      <td>NaN</td>\n",
       "      <td>NaN</td>\n",
       "    </tr>\n",
       "    <tr>\n",
       "      <th>99999</th>\n",
       "      <td>348333</td>\n",
       "      <td>long_email</td>\n",
       "      <td>personalized</td>\n",
       "      <td>8</td>\n",
       "      <td>Sunday</td>\n",
       "      <td>UK</td>\n",
       "      <td>1</td>\n",
       "      <td>1.0</td>\n",
       "      <td>1.0</td>\n",
       "    </tr>\n",
       "  </tbody>\n",
       "</table>\n",
       "<p>100000 rows × 9 columns</p>\n",
       "</div>"
      ],
      "text/plain": [
       "       email_id   email_text email_version  hour    weekday user_country  \\\n",
       "0         85120  short_email  personalized     2     Sunday           US   \n",
       "1        966622   long_email  personalized    12     Sunday           UK   \n",
       "2        777221   long_email  personalized    11  Wednesday           US   \n",
       "3        493711  short_email       generic     6     Monday           UK   \n",
       "4        106887   long_email       generic    14     Monday           US   \n",
       "...         ...          ...           ...   ...        ...          ...   \n",
       "99995    803504  short_email  personalized     4     Monday           US   \n",
       "99996    899722   long_email  personalized     7   Saturday           US   \n",
       "99997    449610   long_email  personalized    11   Saturday           UK   \n",
       "99998     72497  short_email       generic    10     Monday           UK   \n",
       "99999    348333   long_email  personalized     8     Sunday           UK   \n",
       "\n",
       "       user_past_purchases  opened  clicked  \n",
       "0                        5     NaN      NaN  \n",
       "1                        2     1.0      1.0  \n",
       "2                        2     NaN      NaN  \n",
       "3                        1     NaN      NaN  \n",
       "4                        6     NaN      NaN  \n",
       "...                    ...     ...      ...  \n",
       "99995                    5     NaN      NaN  \n",
       "99996                    1     NaN      NaN  \n",
       "99997                    6     NaN      NaN  \n",
       "99998                    0     NaN      NaN  \n",
       "99999                    1     1.0      1.0  \n",
       "\n",
       "[100000 rows x 9 columns]"
      ]
     },
     "execution_count": 15,
     "metadata": {},
     "output_type": "execute_result"
    }
   ],
   "source": [
    "email_open_df['opened'] = 1\n",
    "link_click_df['clicked'] = 1\n",
    "\n",
    "temp = pd.merge(left=email_df,right=email_open_df,how='left',on='email_id')\n",
    "temp = pd.merge(left=temp,right = link_click_df,how = 'left',on='email_id')\n",
    "temp"
   ]
  },
  {
   "cell_type": "markdown",
   "metadata": {},
   "source": [
    "### Q1 open_email_conversion and link_click_conversion"
   ]
  },
  {
   "cell_type": "code",
   "execution_count": 28,
   "metadata": {},
   "outputs": [
    {
     "data": {
      "text/html": [
       "<div>\n",
       "<style scoped>\n",
       "    .dataframe tbody tr th:only-of-type {\n",
       "        vertical-align: middle;\n",
       "    }\n",
       "\n",
       "    .dataframe tbody tr th {\n",
       "        vertical-align: top;\n",
       "    }\n",
       "\n",
       "    .dataframe thead th {\n",
       "        text-align: right;\n",
       "    }\n",
       "</style>\n",
       "<table border=\"1\" class=\"dataframe\">\n",
       "  <thead>\n",
       "    <tr style=\"text-align: right;\">\n",
       "      <th></th>\n",
       "      <th>action</th>\n",
       "      <th>Conversion_rate</th>\n",
       "    </tr>\n",
       "  </thead>\n",
       "  <tbody>\n",
       "    <tr>\n",
       "      <th>0</th>\n",
       "      <td>open_email</td>\n",
       "      <td>0.10345</td>\n",
       "    </tr>\n",
       "    <tr>\n",
       "      <th>1</th>\n",
       "      <td>link_click</td>\n",
       "      <td>0.02119</td>\n",
       "    </tr>\n",
       "  </tbody>\n",
       "</table>\n",
       "</div>"
      ],
      "text/plain": [
       "       action  Conversion_rate\n",
       "0  open_email          0.10345\n",
       "1  link_click          0.02119"
      ]
     },
     "execution_count": 28,
     "metadata": {},
     "output_type": "execute_result"
    }
   ],
   "source": [
    "open_email_conv_rate = len(temp.dropna(subset=['opened']))/(temp['email_id'].nunique())\n",
    "link_click_conv_rate = len(temp.dropna(subset=['clicked']))/(temp['email_id'].nunique())\n",
    "\n",
    "conv_map = {'action':['open_email','link_click'],\"Conversion_rate\":[open_email_conv_rate,link_click_conv_rate]}\n",
    "conv_df = pd.DataFrame(conv_map,columns=['action','Conversion_rate'])\n",
    "conv_df"
   ]
  },
  {
   "cell_type": "markdown",
   "metadata": {},
   "source": [
    "10.3% user open emails and 2.1% user click on the link"
   ]
  },
  {
   "cell_type": "markdown",
   "metadata": {},
   "source": [
    "### Q2 build model to optimize the click rate"
   ]
  },
  {
   "cell_type": "code",
   "execution_count": 30,
   "metadata": {},
   "outputs": [
    {
     "data": {
      "text/html": [
       "<div>\n",
       "<style scoped>\n",
       "    .dataframe tbody tr th:only-of-type {\n",
       "        vertical-align: middle;\n",
       "    }\n",
       "\n",
       "    .dataframe tbody tr th {\n",
       "        vertical-align: top;\n",
       "    }\n",
       "\n",
       "    .dataframe thead th {\n",
       "        text-align: right;\n",
       "    }\n",
       "</style>\n",
       "<table border=\"1\" class=\"dataframe\">\n",
       "  <thead>\n",
       "    <tr style=\"text-align: right;\">\n",
       "      <th></th>\n",
       "      <th>email_id</th>\n",
       "      <th>email_text</th>\n",
       "      <th>email_version</th>\n",
       "      <th>hour</th>\n",
       "      <th>weekday</th>\n",
       "      <th>user_country</th>\n",
       "      <th>user_past_purchases</th>\n",
       "      <th>opened</th>\n",
       "      <th>clicked</th>\n",
       "    </tr>\n",
       "  </thead>\n",
       "  <tbody>\n",
       "    <tr>\n",
       "      <th>0</th>\n",
       "      <td>85120</td>\n",
       "      <td>short_email</td>\n",
       "      <td>personalized</td>\n",
       "      <td>2</td>\n",
       "      <td>Sunday</td>\n",
       "      <td>US</td>\n",
       "      <td>5</td>\n",
       "      <td>0</td>\n",
       "      <td>0</td>\n",
       "    </tr>\n",
       "    <tr>\n",
       "      <th>1</th>\n",
       "      <td>966622</td>\n",
       "      <td>long_email</td>\n",
       "      <td>personalized</td>\n",
       "      <td>12</td>\n",
       "      <td>Sunday</td>\n",
       "      <td>UK</td>\n",
       "      <td>2</td>\n",
       "      <td>1</td>\n",
       "      <td>1</td>\n",
       "    </tr>\n",
       "    <tr>\n",
       "      <th>2</th>\n",
       "      <td>777221</td>\n",
       "      <td>long_email</td>\n",
       "      <td>personalized</td>\n",
       "      <td>11</td>\n",
       "      <td>Wednesday</td>\n",
       "      <td>US</td>\n",
       "      <td>2</td>\n",
       "      <td>0</td>\n",
       "      <td>0</td>\n",
       "    </tr>\n",
       "    <tr>\n",
       "      <th>3</th>\n",
       "      <td>493711</td>\n",
       "      <td>short_email</td>\n",
       "      <td>generic</td>\n",
       "      <td>6</td>\n",
       "      <td>Monday</td>\n",
       "      <td>UK</td>\n",
       "      <td>1</td>\n",
       "      <td>0</td>\n",
       "      <td>0</td>\n",
       "    </tr>\n",
       "    <tr>\n",
       "      <th>4</th>\n",
       "      <td>106887</td>\n",
       "      <td>long_email</td>\n",
       "      <td>generic</td>\n",
       "      <td>14</td>\n",
       "      <td>Monday</td>\n",
       "      <td>US</td>\n",
       "      <td>6</td>\n",
       "      <td>0</td>\n",
       "      <td>0</td>\n",
       "    </tr>\n",
       "    <tr>\n",
       "      <th>...</th>\n",
       "      <td>...</td>\n",
       "      <td>...</td>\n",
       "      <td>...</td>\n",
       "      <td>...</td>\n",
       "      <td>...</td>\n",
       "      <td>...</td>\n",
       "      <td>...</td>\n",
       "      <td>...</td>\n",
       "      <td>...</td>\n",
       "    </tr>\n",
       "    <tr>\n",
       "      <th>99995</th>\n",
       "      <td>803504</td>\n",
       "      <td>short_email</td>\n",
       "      <td>personalized</td>\n",
       "      <td>4</td>\n",
       "      <td>Monday</td>\n",
       "      <td>US</td>\n",
       "      <td>5</td>\n",
       "      <td>0</td>\n",
       "      <td>0</td>\n",
       "    </tr>\n",
       "    <tr>\n",
       "      <th>99996</th>\n",
       "      <td>899722</td>\n",
       "      <td>long_email</td>\n",
       "      <td>personalized</td>\n",
       "      <td>7</td>\n",
       "      <td>Saturday</td>\n",
       "      <td>US</td>\n",
       "      <td>1</td>\n",
       "      <td>0</td>\n",
       "      <td>0</td>\n",
       "    </tr>\n",
       "    <tr>\n",
       "      <th>99997</th>\n",
       "      <td>449610</td>\n",
       "      <td>long_email</td>\n",
       "      <td>personalized</td>\n",
       "      <td>11</td>\n",
       "      <td>Saturday</td>\n",
       "      <td>UK</td>\n",
       "      <td>6</td>\n",
       "      <td>0</td>\n",
       "      <td>0</td>\n",
       "    </tr>\n",
       "    <tr>\n",
       "      <th>99998</th>\n",
       "      <td>72497</td>\n",
       "      <td>short_email</td>\n",
       "      <td>generic</td>\n",
       "      <td>10</td>\n",
       "      <td>Monday</td>\n",
       "      <td>UK</td>\n",
       "      <td>0</td>\n",
       "      <td>0</td>\n",
       "      <td>0</td>\n",
       "    </tr>\n",
       "    <tr>\n",
       "      <th>99999</th>\n",
       "      <td>348333</td>\n",
       "      <td>long_email</td>\n",
       "      <td>personalized</td>\n",
       "      <td>8</td>\n",
       "      <td>Sunday</td>\n",
       "      <td>UK</td>\n",
       "      <td>1</td>\n",
       "      <td>1</td>\n",
       "      <td>1</td>\n",
       "    </tr>\n",
       "  </tbody>\n",
       "</table>\n",
       "<p>100000 rows × 9 columns</p>\n",
       "</div>"
      ],
      "text/plain": [
       "       email_id   email_text email_version  hour    weekday user_country  \\\n",
       "0         85120  short_email  personalized     2     Sunday           US   \n",
       "1        966622   long_email  personalized    12     Sunday           UK   \n",
       "2        777221   long_email  personalized    11  Wednesday           US   \n",
       "3        493711  short_email       generic     6     Monday           UK   \n",
       "4        106887   long_email       generic    14     Monday           US   \n",
       "...         ...          ...           ...   ...        ...          ...   \n",
       "99995    803504  short_email  personalized     4     Monday           US   \n",
       "99996    899722   long_email  personalized     7   Saturday           US   \n",
       "99997    449610   long_email  personalized    11   Saturday           UK   \n",
       "99998     72497  short_email       generic    10     Monday           UK   \n",
       "99999    348333   long_email  personalized     8     Sunday           UK   \n",
       "\n",
       "       user_past_purchases  opened  clicked  \n",
       "0                        5       0        0  \n",
       "1                        2       1        1  \n",
       "2                        2       0        0  \n",
       "3                        1       0        0  \n",
       "4                        6       0        0  \n",
       "...                    ...     ...      ...  \n",
       "99995                    5       0        0  \n",
       "99996                    1       0        0  \n",
       "99997                    6       0        0  \n",
       "99998                    0       0        0  \n",
       "99999                    1       1        1  \n",
       "\n",
       "[100000 rows x 9 columns]"
      ]
     },
     "execution_count": 30,
     "metadata": {},
     "output_type": "execute_result"
    }
   ],
   "source": [
    "temp.fillna(value=0,inplace=True)\n",
    "temp['opened'] = temp['opened'].astype(int)\n",
    "temp['clicked'] = temp['clicked'].astype(int)\n",
    "temp"
   ]
  },
  {
   "cell_type": "code",
   "execution_count": 50,
   "metadata": {},
   "outputs": [
    {
     "data": {
      "text/plain": [
       "clicked\n",
       "0    0.97881\n",
       "1    0.02119\n",
       "Name: email_id, dtype: float64"
      ]
     },
     "execution_count": 50,
     "metadata": {},
     "output_type": "execute_result"
    }
   ],
   "source": [
    "temp.groupby('clicked')['email_id'].count()/len(temp['email_id'])"
   ]
  },
  {
   "cell_type": "markdown",
   "metadata": {},
   "source": [
    "the data is highly imbalanced and it is a big issue"
   ]
  },
  {
   "cell_type": "markdown",
   "metadata": {},
   "source": [
    "### visualization of email_text"
   ]
  },
  {
   "cell_type": "code",
   "execution_count": 74,
   "metadata": {},
   "outputs": [
    {
     "data": {
      "text/plain": [
       "Text(0.5, 1.0, 'number of email sent vs email text')"
      ]
     },
     "execution_count": 74,
     "metadata": {},
     "output_type": "execute_result"
    },
    {
     "data": {
      "image/png": "[encoded data removed]",
      "text/plain": [
       "<Figure size 1296x432 with 2 Axes>"
      ]
     },
     "metadata": {},
     "output_type": "display_data"
    }
   ],
   "source": [
    "fig, ax = plt.subplots(nrows=1,ncols=2,figsize = (18,6))\n",
    "sns.barplot(x='email_text',y='clicked',data=temp,ax=ax[0])\n",
    "ax[0].set_title('click through rate vs email_text')\n",
    "ax[0].set_ylabel('click through rate')\n",
    "\n",
    "sns.countplot(x='email_text',data=temp,ax=ax[1])\n",
    "ax[1].set_title('number of email sent vs email text')"
   ]
  },
  {
   "cell_type": "markdown",
   "metadata": {},
   "source": [
    "we can see that the click through rate of short email is higher than the long email which matches our expectation"
   ]
  },
  {
   "cell_type": "markdown",
   "metadata": {},
   "source": [
    "### visulization of email version"
   ]
  },
  {
   "cell_type": "code",
   "execution_count": 73,
   "metadata": {},
   "outputs": [
    {
     "data": {
      "text/plain": [
       "Text(0.5, 1.0, 'number of emails sent vs email version')"
      ]
     },
     "execution_count": 73,
     "metadata": {},
     "output_type": "execute_result"
    },
    {
     "data": {
      "image/png": "[encoded data removed]",
      "text/plain": [
       "<Figure size 1296x432 with 2 Axes>"
      ]
     },
     "metadata": {},
     "output_type": "display_data"
    }
   ],
   "source": [
    "fig, axes = plt.subplots(nrows=1,ncols=2,figsize = (18,6))\n",
    "sns.barplot(x='email_version',y='clicked',data=temp,ax=axes[0])\n",
    "axes[0].set_title('click through rate vs email_version')\n",
    "axes[0].set_ylabel('click through rate')\n",
    "\n",
    "sns.countplot(x='email_version',data=temp,ax=axes[1])\n",
    "axes[1].set_title('number of emails sent vs email version')"
   ]
  },
  {
   "cell_type": "markdown",
   "metadata": {},
   "source": [
    "we can see that the personalized email has higher click through rate than generic email which matches our expectation"
   ]
  },
  {
   "cell_type": "markdown",
   "metadata": {},
   "source": [
    "### visulization of hour"
   ]
  },
  {
   "cell_type": "code",
   "execution_count": 72,
   "metadata": {},
   "outputs": [
    {
     "data": {
      "text/plain": [
       "Text(0.5, 1.0, 'number of clicked vs hour')"
      ]
     },
     "execution_count": 72,
     "metadata": {},
     "output_type": "execute_result"
    },
    {
     "data": {
      "image/png": "[encoded data removed]",
      "text/plain": [
       "<Figure size 1296x432 with 2 Axes>"
      ]
     },
     "metadata": {},
     "output_type": "display_data"
    }
   ],
   "source": [
    "fig, axes = plt.subplots(nrows=1,ncols=2,figsize = (18,6))\n",
    "sns.barplot(x='hour',y='clicked',data=temp,ax=axes[0])\n",
    "axes[0].set_title('click through rate vs hour')\n",
    "axes[0].set_ylabel('click through rate')\n",
    "\n",
    "sns.countplot(x='hour',data=temp,ax=axes[1])\n",
    "axes[1].set_title('number of clicked vs hour')"
   ]
  },
  {
   "cell_type": "markdown",
   "metadata": {},
   "source": [
    "we can see that the email are sent the most in the morning between 7am until 10am. The highest clicked through rate occurs 11pm. "
   ]
  },
  {
   "cell_type": "markdown",
   "metadata": {},
   "source": [
    "### visualization of weekday"
   ]
  },
  {
   "cell_type": "code",
   "execution_count": 75,
   "metadata": {},
   "outputs": [
    {
     "data": {
      "text/plain": [
       "Text(0.5, 1.0, 'number of email sent vs weekday')"
      ]
     },
     "execution_count": 75,
     "metadata": {},
     "output_type": "execute_result"
    },
    {
     "data": {
      "image/png": "[encoded data removed]",
      "text/plain": [
       "<Figure size 1296x432 with 2 Axes>"
      ]
     },
     "metadata": {},
     "output_type": "display_data"
    }
   ],
   "source": [
    "fig, axes = plt.subplots(nrows=1,ncols=2,figsize = (18,6))\n",
    "sns.barplot(x='weekday',y='clicked',data=temp,ax=axes[0])\n",
    "axes[0].set_title('click through rate vs weekday')\n",
    "axes[0].set_ylabel('click through rate')\n",
    "\n",
    "sns.countplot(x='weekday',data=temp,ax=axes[1])\n",
    "axes[1].set_title('number of email sent vs weekday')"
   ]
  },
  {
   "cell_type": "markdown",
   "metadata": {},
   "source": [
    "the highest clicked through rate occurs on wednesday, friday has the lowest click through rate"
   ]
  },
  {
   "cell_type": "markdown",
   "metadata": {},
   "source": [
    "### visulization of user country"
   ]
  },
  {
   "cell_type": "code",
   "execution_count": 76,
   "metadata": {},
   "outputs": [
    {
     "data": {
      "text/plain": [
       "Text(0.5, 1.0, 'number of email sent vs user_country')"
      ]
     },
     "execution_count": 76,
     "metadata": {},
     "output_type": "execute_result"
    },
    {
     "data": {
      "image/png": "[encoded data removed]",
      "text/plain": [
       "<Figure size 1296x432 with 2 Axes>"
      ]
     },
     "metadata": {},
     "output_type": "display_data"
    }
   ],
   "source": [
    "fig, axes = plt.subplots(nrows=1,ncols=2,figsize = (18,6))\n",
    "sns.barplot(x='user_country',y='clicked',data=temp,ax=axes[0])\n",
    "axes[0].set_title('click through rate vs user country')\n",
    "axes[0].set_ylabel('click through rate')\n",
    "\n",
    "sns.countplot(x='user_country',data=temp,ax=axes[1])\n",
    "axes[1].set_title('number of email sent vs user_country')"
   ]
  },
  {
   "cell_type": "markdown",
   "metadata": {},
   "source": [
    "we send most email to US users. However, UK and US both has highest clicked through rate. Perhaps we should send more marketing email to UK"
   ]
  },
  {
   "cell_type": "markdown",
   "metadata": {},
   "source": [
    "### visulization of past purchase"
   ]
  },
  {
   "cell_type": "code",
   "execution_count": 78,
   "metadata": {},
   "outputs": [
    {
     "data": {
      "text/plain": [
       "Text(0.5, 1.0, 'number of email sent vs user past purchase')"
      ]
     },
     "execution_count": 78,
     "metadata": {},
     "output_type": "execute_result"
    },
    {
     "data": {
      "image/png": "[encoded data removed]",
      "text/plain": [
       "<Figure size 1296x432 with 2 Axes>"
      ]
     },
     "metadata": {},
     "output_type": "display_data"
    }
   ],
   "source": [
    "fig, axes = plt.subplots(nrows=1,ncols=2,figsize = (18,6))\n",
    "sns.barplot(x='user_past_purchases',y='clicked',data=temp,ax=axes[0])\n",
    "axes[0].set_title('click through rate vs user past purchase')\n",
    "axes[0].set_ylabel('click through rate')\n",
    "\n",
    "sns.countplot(x='user_past_purchases',data=temp,ax=axes[1])\n",
    "axes[1].set_title('number of email sent vs user past purchase')"
   ]
  },
  {
   "cell_type": "markdown",
   "metadata": {},
   "source": [
    "we send the most email to user who has 0 purchases before. However, they still has the lowest click through rate. It shows that they are lack of interest. However, if the user has already purchases over 20 items, they are highly likely to click on the link. "
   ]
  },
  {
   "cell_type": "markdown",
   "metadata": {},
   "source": [
    "### machine learning model to predict the click through probability"
   ]
  },
  {
   "cell_type": "code",
   "execution_count": 88,
   "metadata": {},
   "outputs": [
    {
     "data": {
      "text/html": [
       "<div>\n",
       "<style scoped>\n",
       "    .dataframe tbody tr th:only-of-type {\n",
       "        vertical-align: middle;\n",
       "    }\n",
       "\n",
       "    .dataframe tbody tr th {\n",
       "        vertical-align: top;\n",
       "    }\n",
       "\n",
       "    .dataframe thead th {\n",
       "        text-align: right;\n",
       "    }\n",
       "</style>\n",
       "<table border=\"1\" class=\"dataframe\">\n",
       "  <thead>\n",
       "    <tr style=\"text-align: right;\">\n",
       "      <th></th>\n",
       "      <th>email_text</th>\n",
       "      <th>email_version</th>\n",
       "      <th>hour</th>\n",
       "      <th>weekday</th>\n",
       "      <th>user_country</th>\n",
       "      <th>user_past_purchases</th>\n",
       "      <th>clicked</th>\n",
       "    </tr>\n",
       "  </thead>\n",
       "  <tbody>\n",
       "    <tr>\n",
       "      <th>0</th>\n",
       "      <td>short_email</td>\n",
       "      <td>personalized</td>\n",
       "      <td>2</td>\n",
       "      <td>Sunday</td>\n",
       "      <td>US</td>\n",
       "      <td>5</td>\n",
       "      <td>0</td>\n",
       "    </tr>\n",
       "    <tr>\n",
       "      <th>1</th>\n",
       "      <td>long_email</td>\n",
       "      <td>personalized</td>\n",
       "      <td>12</td>\n",
       "      <td>Sunday</td>\n",
       "      <td>UK</td>\n",
       "      <td>2</td>\n",
       "      <td>1</td>\n",
       "    </tr>\n",
       "    <tr>\n",
       "      <th>2</th>\n",
       "      <td>long_email</td>\n",
       "      <td>personalized</td>\n",
       "      <td>11</td>\n",
       "      <td>Wednesday</td>\n",
       "      <td>US</td>\n",
       "      <td>2</td>\n",
       "      <td>0</td>\n",
       "    </tr>\n",
       "    <tr>\n",
       "      <th>3</th>\n",
       "      <td>short_email</td>\n",
       "      <td>generic</td>\n",
       "      <td>6</td>\n",
       "      <td>Monday</td>\n",
       "      <td>UK</td>\n",
       "      <td>1</td>\n",
       "      <td>0</td>\n",
       "    </tr>\n",
       "    <tr>\n",
       "      <th>4</th>\n",
       "      <td>long_email</td>\n",
       "      <td>generic</td>\n",
       "      <td>14</td>\n",
       "      <td>Monday</td>\n",
       "      <td>US</td>\n",
       "      <td>6</td>\n",
       "      <td>0</td>\n",
       "    </tr>\n",
       "    <tr>\n",
       "      <th>...</th>\n",
       "      <td>...</td>\n",
       "      <td>...</td>\n",
       "      <td>...</td>\n",
       "      <td>...</td>\n",
       "      <td>...</td>\n",
       "      <td>...</td>\n",
       "      <td>...</td>\n",
       "    </tr>\n",
       "    <tr>\n",
       "      <th>99995</th>\n",
       "      <td>short_email</td>\n",
       "      <td>personalized</td>\n",
       "      <td>4</td>\n",
       "      <td>Monday</td>\n",
       "      <td>US</td>\n",
       "      <td>5</td>\n",
       "      <td>0</td>\n",
       "    </tr>\n",
       "    <tr>\n",
       "      <th>99996</th>\n",
       "      <td>long_email</td>\n",
       "      <td>personalized</td>\n",
       "      <td>7</td>\n",
       "      <td>Saturday</td>\n",
       "      <td>US</td>\n",
       "      <td>1</td>\n",
       "      <td>0</td>\n",
       "    </tr>\n",
       "    <tr>\n",
       "      <th>99997</th>\n",
       "      <td>long_email</td>\n",
       "      <td>personalized</td>\n",
       "      <td>11</td>\n",
       "      <td>Saturday</td>\n",
       "      <td>UK</td>\n",
       "      <td>6</td>\n",
       "      <td>0</td>\n",
       "    </tr>\n",
       "    <tr>\n",
       "      <th>99998</th>\n",
       "      <td>short_email</td>\n",
       "      <td>generic</td>\n",
       "      <td>10</td>\n",
       "      <td>Monday</td>\n",
       "      <td>UK</td>\n",
       "      <td>0</td>\n",
       "      <td>0</td>\n",
       "    </tr>\n",
       "    <tr>\n",
       "      <th>99999</th>\n",
       "      <td>long_email</td>\n",
       "      <td>personalized</td>\n",
       "      <td>8</td>\n",
       "      <td>Sunday</td>\n",
       "      <td>UK</td>\n",
       "      <td>1</td>\n",
       "      <td>1</td>\n",
       "    </tr>\n",
       "  </tbody>\n",
       "</table>\n",
       "<p>100000 rows × 7 columns</p>\n",
       "</div>"
      ],
      "text/plain": [
       "        email_text email_version  hour    weekday user_country  \\\n",
       "0      short_email  personalized     2     Sunday           US   \n",
       "1       long_email  personalized    12     Sunday           UK   \n",
       "2       long_email  personalized    11  Wednesday           US   \n",
       "3      short_email       generic     6     Monday           UK   \n",
       "4       long_email       generic    14     Monday           US   \n",
       "...            ...           ...   ...        ...          ...   \n",
       "99995  short_email  personalized     4     Monday           US   \n",
       "99996   long_email  personalized     7   Saturday           US   \n",
       "99997   long_email  personalized    11   Saturday           UK   \n",
       "99998  short_email       generic    10     Monday           UK   \n",
       "99999   long_email  personalized     8     Sunday           UK   \n",
       "\n",
       "       user_past_purchases  clicked  \n",
       "0                        5        0  \n",
       "1                        2        1  \n",
       "2                        2        0  \n",
       "3                        1        0  \n",
       "4                        6        0  \n",
       "...                    ...      ...  \n",
       "99995                    5        0  \n",
       "99996                    1        0  \n",
       "99997                    6        0  \n",
       "99998                    0        0  \n",
       "99999                    1        1  \n",
       "\n",
       "[100000 rows x 7 columns]"
      ]
     },
     "execution_count": 88,
     "metadata": {},
     "output_type": "execute_result"
    }
   ],
   "source": [
    "df = temp.drop(columns=['email_id','opened'])\n",
    "df"
   ]
  },
  {
   "cell_type": "markdown",
   "metadata": {},
   "source": [
    "#### random forest"
   ]
  },
  {
   "cell_type": "code",
   "execution_count": 116,
   "metadata": {
    "collapsed": true
   },
   "outputs": [],
   "source": [
    "import h2o\n",
    "from h2o.frame import H2OFrame\n",
    "from h2o.estimators.random_forest import H2ORandomForestEstimator\n",
    "from sklearn.metrics import auc, roc_curve, classification_report"
   ]
  },
  {
   "cell_type": "code",
   "execution_count": 90,
   "metadata": {},
   "outputs": [
    {
     "name": "stdout",
     "output_type": "stream",
     "text": [
      "Checking whether there is an H2O instance running at http://localhost:54321 . connected.\n",
      "Warning: Your H2O cluster version is too old (5 months and 1 day)! Please download and install the latest version from http://h2o.ai/download/\n"
     ]
    },
    {
     "data": {
      "text/html": [
       "<div style=\"overflow:auto\"><table style=\"width:50%\"><tr><td>H2O cluster uptime:</td>\n",
       "<td>4 mins 26 secs</td></tr>\n",
       "<tr><td>H2O cluster timezone:</td>\n",
       "<td>America/New_York</td></tr>\n",
       "<tr><td>H2O data parsing timezone:</td>\n",
       "<td>UTC</td></tr>\n",
       "<tr><td>H2O cluster version:</td>\n",
       "<td>3.28.1.2</td></tr>\n",
       "<tr><td>H2O cluster version age:</td>\n",
       "<td>5 months and 1 day !!!</td></tr>\n",
       "<tr><td>H2O cluster name:</td>\n",
       "<td>H2O_from_python_jinq_q2f09l</td></tr>\n",
       "<tr><td>H2O cluster total nodes:</td>\n",
       "<td>1</td></tr>\n",
       "<tr><td>H2O cluster free memory:</td>\n",
       "<td>3.278 Gb</td></tr>\n",
       "<tr><td>H2O cluster total cores:</td>\n",
       "<td>8</td></tr>\n",
       "<tr><td>H2O cluster allowed cores:</td>\n",
       "<td>8</td></tr>\n",
       "<tr><td>H2O cluster status:</td>\n",
       "<td>locked, healthy</td></tr>\n",
       "<tr><td>H2O connection url:</td>\n",
       "<td>http://localhost:54321</td></tr>\n",
       "<tr><td>H2O connection proxy:</td>\n",
       "<td>{'http': None, 'https': None}</td></tr>\n",
       "<tr><td>H2O internal security:</td>\n",
       "<td>False</td></tr>\n",
       "<tr><td>H2O API Extensions:</td>\n",
       "<td>Amazon S3, XGBoost, Algos, AutoML, Core V3, TargetEncoder, Core V4</td></tr>\n",
       "<tr><td>Python version:</td>\n",
       "<td>3.6.3 final</td></tr></table></div>"
      ],
      "text/plain": [
       "--------------------------  ------------------------------------------------------------------\n",
       "H2O cluster uptime:         4 mins 26 secs\n",
       "H2O cluster timezone:       America/New_York\n",
       "H2O data parsing timezone:  UTC\n",
       "H2O cluster version:        3.28.1.2\n",
       "H2O cluster version age:    5 months and 1 day !!!\n",
       "H2O cluster name:           H2O_from_python_jinq_q2f09l\n",
       "H2O cluster total nodes:    1\n",
       "H2O cluster free memory:    3.278 Gb\n",
       "H2O cluster total cores:    8\n",
       "H2O cluster allowed cores:  8\n",
       "H2O cluster status:         locked, healthy\n",
       "H2O connection url:         http://localhost:54321\n",
       "H2O connection proxy:       {'http': None, 'https': None}\n",
       "H2O internal security:      False\n",
       "H2O API Extensions:         Amazon S3, XGBoost, Algos, AutoML, Core V3, TargetEncoder, Core V4\n",
       "Python version:             3.6.3 final\n",
       "--------------------------  ------------------------------------------------------------------"
      ]
     },
     "metadata": {},
     "output_type": "display_data"
    }
   ],
   "source": [
    "h2o.init()\n",
    "h2o.remove_all()"
   ]
  },
  {
   "cell_type": "code",
   "execution_count": 109,
   "metadata": {},
   "outputs": [
    {
     "name": "stdout",
     "output_type": "stream",
     "text": [
      "Parse progress: |█████████████████████████████████████████████████████████| 100%\n"
     ]
    },
    {
     "data": {
      "text/html": [
       "<table>\n",
       "<thead>\n",
       "<tr><th>       </th><th>email_text  </th><th>email_version  </th><th>hour             </th><th>weekday  </th><th>user_country  </th><th>user_past_purchases  </th><th>clicked  </th></tr>\n",
       "</thead>\n",
       "<tbody>\n",
       "<tr><td>type   </td><td>enum        </td><td>enum           </td><td>int              </td><td>enum     </td><td>enum          </td><td>int                  </td><td>enum     </td></tr>\n",
       "<tr><td>mins   </td><td>            </td><td>               </td><td>1.0              </td><td>         </td><td>              </td><td>0.0                  </td><td>         </td></tr>\n",
       "<tr><td>mean   </td><td>            </td><td>               </td><td>9.059300000000004</td><td>         </td><td>              </td><td>3.878450000000028    </td><td>         </td></tr>\n",
       "<tr><td>maxs   </td><td>            </td><td>               </td><td>24.0             </td><td>         </td><td>              </td><td>22.0                 </td><td>         </td></tr>\n",
       "<tr><td>sigma  </td><td>            </td><td>               </td><td>4.439637441706966</td><td>         </td><td>              </td><td>3.196109783577136    </td><td>         </td></tr>\n",
       "<tr><td>zeros  </td><td>            </td><td>               </td><td>0                </td><td>         </td><td>              </td><td>13877                </td><td>         </td></tr>\n",
       "<tr><td>missing</td><td>0           </td><td>0              </td><td>0                </td><td>0        </td><td>0             </td><td>0                    </td><td>0        </td></tr>\n",
       "<tr><td>0      </td><td>short_email </td><td>personalized   </td><td>2.0              </td><td>Sunday   </td><td>US            </td><td>5.0                  </td><td>0        </td></tr>\n",
       "<tr><td>1      </td><td>long_email  </td><td>personalized   </td><td>12.0             </td><td>Sunday   </td><td>UK            </td><td>2.0                  </td><td>1        </td></tr>\n",
       "<tr><td>2      </td><td>long_email  </td><td>personalized   </td><td>11.0             </td><td>Wednesday</td><td>US            </td><td>2.0                  </td><td>0        </td></tr>\n",
       "<tr><td>3      </td><td>short_email </td><td>generic        </td><td>6.0              </td><td>Monday   </td><td>UK            </td><td>1.0                  </td><td>0        </td></tr>\n",
       "<tr><td>4      </td><td>long_email  </td><td>generic        </td><td>14.0             </td><td>Monday   </td><td>US            </td><td>6.0                  </td><td>0        </td></tr>\n",
       "<tr><td>5      </td><td>long_email  </td><td>personalized   </td><td>6.0              </td><td>Sunday   </td><td>UK            </td><td>3.0                  </td><td>0        </td></tr>\n",
       "<tr><td>6      </td><td>short_email </td><td>personalized   </td><td>9.0              </td><td>Saturday </td><td>US            </td><td>8.0                  </td><td>0        </td></tr>\n",
       "<tr><td>7      </td><td>long_email  </td><td>generic        </td><td>8.0              </td><td>Saturday </td><td>US            </td><td>2.0                  </td><td>0        </td></tr>\n",
       "<tr><td>8      </td><td>long_email  </td><td>personalized   </td><td>5.0              </td><td>Monday   </td><td>US            </td><td>4.0                  </td><td>0        </td></tr>\n",
       "<tr><td>9      </td><td>short_email </td><td>personalized   </td><td>23.0             </td><td>Wednesday</td><td>US            </td><td>3.0                  </td><td>0        </td></tr>\n",
       "</tbody>\n",
       "</table>"
      ]
     },
     "metadata": {},
     "output_type": "display_data"
    }
   ],
   "source": [
    "h2o_df = H2OFrame(df)\n",
    "h2o_df['clicked'] = h2o_df['clicked'].asfactor()\n",
    "h2o_df.summary()"
   ]
  },
  {
   "cell_type": "code",
   "execution_count": 110,
   "metadata": {},
   "outputs": [
    {
     "name": "stdout",
     "output_type": "stream",
     "text": [
      "['email_text', 'email_version', 'hour', 'weekday', 'user_country', 'user_past_purchases']\n"
     ]
    }
   ],
   "source": [
    "#split into 70% training and 30% testing\n",
    "strat_split = h2o_df['clicked'].stratified_split(test_frac=0.3,seed=42)\n",
    "\n",
    "train = h2o_df[strat_split=='train']\n",
    "test = h2o_df[strat_split == 'test']\n",
    "\n",
    "features = h2o_df.col_names[:-1]\n",
    "target = 'clicked'\n",
    "print(features)"
   ]
  },
  {
   "cell_type": "code",
   "execution_count": 136,
   "metadata": {},
   "outputs": [
    {
     "name": "stdout",
     "output_type": "stream",
     "text": [
      "drf Model Build progress: |███████████████████████████████████████████████| 100%\n"
     ]
    }
   ],
   "source": [
    "#build random forest model\n",
    "model = H2ORandomForestEstimator(balance_classes = True, ntrees = 100,mtries=-1,max_depth = 20, score_each_iteration=True)\n",
    "model.train(x=features,y=target,training_frame=train)"
   ]
  },
  {
   "cell_type": "code",
   "execution_count": 137,
   "metadata": {},
   "outputs": [
    {
     "data": {
      "image/png": "[encoded data removed]",
      "text/plain": [
       "<Figure size 1008x720 with 1 Axes>"
      ]
     },
     "metadata": {},
     "output_type": "display_data"
    }
   ],
   "source": [
    "#variable importance\n",
    "model.varimp_plot()"
   ]
  },
  {
   "cell_type": "code",
   "execution_count": 138,
   "metadata": {},
   "outputs": [
    {
     "name": "stdout",
     "output_type": "stream",
     "text": [
      "PartialDependencePlot progress: |█████████████████████████████████████████| 100%\n"
     ]
    },
    {
     "data": {
      "image/png": "[encoded data removed]",
      "text/plain": [
       "<Figure size 576x1080 with 6 Axes>"
      ]
     },
     "metadata": {},
     "output_type": "display_data"
    }
   ],
   "source": [
    "_ = model.partial_plot(train, cols=features, figsize=(8, 15))"
   ]
  },
  {
   "cell_type": "code",
   "execution_count": 142,
   "metadata": {},
   "outputs": [
    {
     "name": "stdout",
     "output_type": "stream",
     "text": [
      "drf prediction progress: |████████████████████████████████████████████████| 100%\n",
      "drf prediction progress: |████████████████████████████████████████████████| 100%\n",
      "(70000,) (70000,)\n"
     ]
    }
   ],
   "source": [
    "#make prediction\n",
    "train_true = train.as_data_frame()['clicked'].values\n",
    "test_true = test.as_data_frame()['clicked'].values\n",
    "train_predict = model.predict(train).as_data_frame()['p1'].values\n",
    "test_predict = model.predict(test).as_data_frame()['p1'].values\n",
    "\n",
    "print(train_predict.shape,train_true.shape)\n",
    "\n",
    "train_fpr, train_tpr, _ = roc_curve(train_true,train_predict)\n",
    "test_fpr, test_tpr, _ = roc_curve(test_true, test_predict)\n",
    "train_auc = np.round(auc(train_fpr,train_tpr),3)\n",
    "test_auc = np.round(auc(test_fpr, test_tpr),3)"
   ]
  },
  {
   "cell_type": "code",
   "execution_count": 147,
   "metadata": {},
   "outputs": [
    {
     "name": "stderr",
     "output_type": "stream",
     "text": [
      "/Users/jinq/anaconda3/lib/python3.6/site-packages/sklearn/metrics/_classification.py:1272: UndefinedMetricWarning: Precision and F-score are ill-defined and being set to 0.0 in labels with no predicted samples. Use `zero_division` parameter to control this behavior.\n",
      "  _warn_prf(average, modifier, msg_start, len(result))\n"
     ]
    },
    {
     "name": "stdout",
     "output_type": "stream",
     "text": [
      "              precision    recall  f1-score   support\n",
      "\n",
      "           0       0.98      1.00      0.99     29364\n",
      "           1       0.00      0.00      0.00       636\n",
      "\n",
      "    accuracy                           0.98     30000\n",
      "   macro avg       0.49      0.50      0.49     30000\n",
      "weighted avg       0.96      0.98      0.97     30000\n",
      "\n"
     ]
    }
   ],
   "source": [
    "# Classification report\n",
    "print(classification_report(y_true=test_true, y_pred=(test_predict >0.5).astype(int)))"
   ]
  },
  {
   "cell_type": "code",
   "execution_count": 150,
   "metadata": {},
   "outputs": [
    {
     "data": {
      "image/png": "[encoded data removed]",
      "text/plain": [
       "<Figure size 576x432 with 1 Axes>"
      ]
     },
     "metadata": {},
     "output_type": "display_data"
    }
   ],
   "source": [
    "# ROC curves\n",
    "fig, ax = plt.subplots(figsize=(8, 6))\n",
    "ax.plot(train_fpr, train_tpr, label='Train AUC: ' + str(train_auc))\n",
    "ax.plot(test_fpr, test_tpr, label='Test AUC: ' + str(test_auc))\n",
    "ax.set_xlabel('False Positive Rate')\n",
    "ax.set_ylabel('True Positive Rate')\n",
    "ax.legend(fontsize=12)\n",
    "plt.show()"
   ]
  },
  {
   "cell_type": "code",
   "execution_count": null,
   "metadata": {
    "collapsed": true
   },
   "outputs": [],
   "source": [
    "# Shutdown h2o instance\n",
    "h2o.cluster().shutdown()"
   ]
  },
  {
   "cell_type": "markdown",
   "metadata": {},
   "source": [
    "The model appears to be overfitting, we can perform grid search or try some other model to solve this issue."
   ]
  },
  {
   "cell_type": "markdown",
   "metadata": {},
   "source": [
    "### Q3 \n",
    "By how much do you think your model would improve click through rate ( defined as # of\n",
    "users who click on the link / total users who received the email). How would you test\n",
    "that?"
   ]
  },
  {
   "cell_type": "markdown",
   "metadata": {},
   "source": [
    "we can send email to the selected user that with higher probability to test the probability to click on the link. We can perform AB testing\n",
    "* randomly assign users into two groups control and experiment\n",
    "* in control group, use the old campaign strategy and send emails to all users\n",
    "* in experiment group, use the model to predict wheather the user will click on the link or not, only send emails to the user with a positive prediction\n",
    "* perform a one tail unpaired t test to test wheather the experiment group's click through rate is higher than the control's click through rate "
   ]
  },
  {
   "cell_type": "markdown",
   "metadata": {},
   "source": [
    "### Q4"
   ]
  },
  {
   "cell_type": "markdown",
   "metadata": {},
   "source": [
    "interesting pattern on how the email campaign performed for different\n",
    "segments of users?"
   ]
  },
  {
   "cell_type": "markdown",
   "metadata": {},
   "source": [
    "1. we can see that the click through rate of short email is higher than the long email \n",
    "2. we can see that the personalized email has higher click through rate than generic email \n",
    "3. the highest clicked through rate occurs on wednesday, friday has the lowest click through rate\n",
    "4. we can see that the email are sent the most in the morning between 7am until 10am. The highest clicked through rate occurs 11pm.\n",
    "5. we send most email to US users. However, UK and US both has highest clicked through rate. Perhaps we should send more marketing email to UK.\n",
    "6. we send the most email to user who has 0 purchases before. However, they still has the lowest click through rate. It shows that they are lack of interest. However, if the user has already purchases over 20 items, they are highly likely to click on the link."
   ]
  },
  {
   "cell_type": "code",
   "execution_count": null,
   "metadata": {
    "collapsed": true
   },
   "outputs": [],
   "source": []
  }
 ],
 "metadata": {
  "kernelspec": {
   "display_name": "Python 3",
   "language": "python",
   "name": "python3"
  },
  "language_info": {
   "codemirror_mode": {
    "name": "ipython",
    "version": 3
   },
   "file_extension": ".py",
   "mimetype": "text/x-python",
   "name": "python",
   "nbconvert_exporter": "python",
   "pygments_lexer": "ipython3",
   "version": "3.6.3"
  }
 },
 "nbformat": 4,
 "nbformat_minor": 2
}
